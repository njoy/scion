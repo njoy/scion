{
 "cells": [
  {
   "cell_type": "code",
   "execution_count": 1,
   "id": "c64ad866",
   "metadata": {},
   "outputs": [],
   "source": [
    "import scion\n",
    "import time\n",
    "import numpy"
   ]
  },
  {
   "cell_type": "code",
   "execution_count": 2,
   "id": "8984e222",
   "metadata": {},
   "outputs": [
    {
     "name": "stdout",
     "output_type": "stream",
     "text": [
      "scion : -8.0\n",
      "numpy : -8.0\n",
      "-------------------------\n",
      "scion elapsed time = 3.77 s\n",
      "numpy elapsed time = 36.8 s\n",
      "-------------------------\n",
      "numpy / scion = 9.7602852974013\n",
      "-------------------------\n"
     ]
    }
   ],
   "source": [
    "repeat = 10000000\n",
    "\n",
    "coeffients = [ -23./2., 59./4., -7./2., 1./4. ]\n",
    "\n",
    "scion_test = scion.math.ChebyshevSeries( coeffients )\n",
    "numpy_test = numpy.polynomial.chebyshev.Chebyshev( coeffients )\n",
    "\n",
    "print( 'scion :', scion_test( 0. ) )\n",
    "print( 'numpy :', numpy_test( 0. ) )\n",
    "\n",
    "start = time.perf_counter()\n",
    "for i in range( repeat ) : result = scion_test( 0. )\n",
    "end = time.perf_counter()\n",
    "time_scion = end - start\n",
    " \n",
    "start = time.perf_counter()\n",
    "for i in range( repeat ) : result = numpy_test( 0. )\n",
    "end = time.perf_counter()\n",
    "time_numpy = end - start\n",
    "\n",
    "print( '-------------------------' )\n",
    "print( 'scion elapsed time = {:.3} s'.format( time_scion ) )\n",
    "print( 'numpy elapsed time = {:.3} s'.format( time_numpy ) )\n",
    "print( '-------------------------' )\n",
    "print( 'numpy / scion = {}'.format( time_numpy / time_scion ) )\n",
    "print( '-------------------------' )\n"
   ]
  },
  {
   "cell_type": "code",
   "execution_count": 3,
   "id": "901a8fa2",
   "metadata": {},
   "outputs": [
    {
     "name": "stdout",
     "output_type": "stream",
     "text": [
      "scion : [1.0, 2.0000000000000004, 3.9999999999999996]\n",
      "numpy : [1. 2. 4.]\n",
      "-------------------------\n",
      "scion elapsed time = 2.04 s\n",
      "numpy elapsed time = 42.0 s\n",
      "-------------------------\n",
      "numpy / scion = 20.54221824137342\n",
      "-------------------------\n"
     ]
    }
   ],
   "source": [
    "repeat = 1000000\n",
    "\n",
    "coeffients = [ -23./2., 59./4., -7./2., 1./4. ]\n",
    "\n",
    "scion_test = scion.math.ChebyshevSeries( coeffients )\n",
    "numpy_test = numpy.polynomial.chebyshev.Chebyshev( coeffients )\n",
    "\n",
    "print( 'scion :', scion_test.roots() )\n",
    "print( 'numpy :', numpy_test.roots() )\n",
    "\n",
    "start = time.perf_counter()\n",
    "for i in range( repeat ) : result = scion_test.roots()\n",
    "end = time.perf_counter()\n",
    "time_scion = end - start\n",
    " \n",
    "start = time.perf_counter()\n",
    "for i in range( repeat ) : result = numpy_test.roots()\n",
    "end = time.perf_counter()\n",
    "time_numpy = end - start\n",
    "\n",
    "print( '-------------------------' )\n",
    "print( 'scion elapsed time = {:.3} s'.format( time_scion ) )\n",
    "print( 'numpy elapsed time = {:.3} s'.format( time_numpy ) )\n",
    "print( '-------------------------' )\n",
    "print( 'numpy / scion = {}'.format( time_numpy / time_scion ) )\n",
    "print( '-------------------------' )\n"
   ]
  },
  {
   "cell_type": "code",
   "execution_count": 4,
   "id": "c3aaa54b",
   "metadata": {},
   "outputs": [
    {
     "name": "stdout",
     "output_type": "stream",
     "text": [
      "scion : [15.5, -14.0, 1.5]\n",
      "numpy : 15.5 - 14.0·T₁(x) + 1.5·T₂(x)\n",
      "-------------------------\n",
      "scion elapsed time = 0.75 s\n",
      "numpy elapsed time = 25.4 s\n",
      "-------------------------\n",
      "numpy / scion = 33.81866728131357\n",
      "-------------------------\n"
     ]
    }
   ],
   "source": [
    "repeat = 1000000\n",
    "\n",
    "coeffients = [ -23./2., 59./4., -7./2., 1./4. ]\n",
    "\n",
    "scion_test = scion.math.ChebyshevSeries( coeffients )\n",
    "numpy_test = numpy.polynomial.chebyshev.Chebyshev( coeffients )\n",
    "\n",
    "print( 'scion :', scion_test.derivative().coefficients )\n",
    "print( 'numpy :', numpy_test.deriv() )\n",
    "\n",
    "start = time.perf_counter()\n",
    "for i in range( repeat ) : result = scion_test.derivative()\n",
    "end = time.perf_counter()\n",
    "time_scion = end - start\n",
    " \n",
    "start = time.perf_counter()\n",
    "for i in range( repeat ) : result = numpy_test.deriv()\n",
    "end = time.perf_counter()\n",
    "time_numpy = end - start\n",
    "\n",
    "print( '-------------------------' )\n",
    "print( 'scion elapsed time = {:.3} s'.format( time_scion ) )\n",
    "print( 'numpy elapsed time = {:.3} s'.format( time_numpy ) )\n",
    "print( '-------------------------' )\n",
    "print( 'numpy / scion = {}'.format( time_numpy / time_scion ) )\n",
    "print( '-------------------------' )\n"
   ]
  },
  {
   "cell_type": "code",
   "execution_count": 5,
   "id": "44d0fd48",
   "metadata": {},
   "outputs": [
    {
     "name": "stdout",
     "output_type": "stream",
     "text": [
      "scion : [-13.989583333333332, -9.75, 3.625, -0.5833333333333334, 0.03125]\n",
      "numpy : -13.989583333333332 - 9.75·T₁(x) + 3.625·T₂(x) -\n",
      "0.5833333333333334·T₃(x) + 0.03125·T₄(x)\n",
      "-------------------------\n",
      "scion elapsed time = 1.09 s\n",
      "numpy elapsed time = 31.8 s\n",
      "-------------------------\n",
      "numpy / scion = 29.17604068312115\n",
      "-------------------------\n"
     ]
    }
   ],
   "source": [
    "repeat = 1000000\n",
    "\n",
    "coeffients = [ -23./2., 59./4., -7./2., 1./4. ]\n",
    "\n",
    "scion_test = scion.math.ChebyshevSeries( coeffients )\n",
    "numpy_test = numpy.polynomial.chebyshev.Chebyshev( coeffients )\n",
    "\n",
    "print( 'scion :', scion_test.primitive( left = -1. ).coefficients )\n",
    "print( 'numpy :', numpy_test.integ( lbnd = -1 ) )\n",
    "\n",
    "start = time.perf_counter()\n",
    "for i in range( repeat ) : result = scion_test.primitive( left = -1. )\n",
    "end = time.perf_counter()\n",
    "time_scion = end - start\n",
    " \n",
    "start = time.perf_counter()\n",
    "for i in range( repeat ) : result = numpy_test.integ( lbnd = -1. )\n",
    "end = time.perf_counter()\n",
    "time_numpy = end - start\n",
    "\n",
    "print( '-------------------------' )\n",
    "print( 'scion elapsed time = {:.3} s'.format( time_scion ) )\n",
    "print( 'numpy elapsed time = {:.3} s'.format( time_numpy ) )\n",
    "print( '-------------------------' )\n",
    "print( 'numpy / scion = {}'.format( time_numpy / time_scion ) )\n",
    "print( '-------------------------' )\n"
   ]
  },
  {
   "cell_type": "code",
   "execution_count": 6,
   "id": "4f7d5a33",
   "metadata": {},
   "outputs": [
    {
     "name": "stdout",
     "output_type": "stream",
     "text": [
      "scion x : [-1.0, -0.9375, -0.875, -0.8125, -0.75, -0.6875, -0.625, -0.5625, -0.5, -0.4375, -0.375, -0.3125, -0.25, -0.1875, -0.125, -0.0625, 0.0, 0.0625, 0.125, 0.15625, 0.1875, 0.21875, 0.25, 0.28125, 0.3125, 0.34375, 0.375, 0.40625, 0.4375, 0.46875, 0.5, 0.53125, 0.5625, 0.59375, 0.625, 0.65625, 0.6875, 0.71875, 0.734375, 0.75, 0.765625, 0.78125, 0.796875, 0.8125, 0.828125, 0.84375, 0.859375, 0.875, 0.890625, 0.90625, 0.921875, 0.9296875, 0.9375, 0.9453125, 0.953125, 0.9609375, 0.96875, 0.9765625, 0.98046875, 0.984375, 0.98828125, 0.9921875, 0.99609375, 0.998046875, 0.9990234375, 1.0]\n",
      "scion y : [-30.0, -28.101318359375, -26.279296875, -24.532470703125, -22.859375, -21.258544921875, -19.728515625, -18.267822265625, -16.875, -15.548583984375, -14.287109375, -13.089111328125, -11.953125, -10.877685546875, -9.861328125, -8.902587890625, -8.0, -7.152099609375, -6.357421875, -5.979583740234375, -5.614501953125, -5.261993408203125, -4.921875, -4.593963623046875, -4.278076171875, -3.974029541015625, -3.681640625, -3.400726318359375, -3.131103515625, -2.872589111328125, -2.625, -2.388153076171875, -2.161865234375, -1.945953369140625, -1.740234375, -1.544525146484375, -1.358642578125, -1.182403564453125, -1.0978431701660156, -1.015625, -0.9357261657714844, -0.858123779296875, -0.7827949523925781, -0.709716796875, -0.6388664245605469, -0.570220947265625, -0.5037574768066406, -0.439453125, -0.3772850036621094, -0.317230224609375, -0.2592658996582031, -0.23106050491333008, -0.203369140625, -0.17618894577026367, -0.14951705932617188, -0.12335062026977539, -0.097686767578125, -0.07252264022827148, -0.060127079486846924, -0.047855377197265625, -0.035707175731658936, -0.023682117462158203, -0.011779844760894775, -0.005874641239643097, -0.0029335031285881996, 0.0]\n",
      "-------------------------\n",
      "scion elapsed time = 4.73 s\n",
      "-------------------------\n"
     ]
    }
   ],
   "source": [
    "repeat = 1000000\n",
    "\n",
    "coeffients = [ -23./2., 59./4., -7./2., 1./4. ]\n",
    "\n",
    "scion_test = scion.math.ChebyshevSeries( coeffients )\n",
    "\n",
    "result = scion_test.linearise()\n",
    "print( 'scion x :', result.x )\n",
    "print( 'scion y :', result.y )\n",
    "\n",
    "start = time.perf_counter()\n",
    "for i in range( repeat ) : result = scion_test.linearise()\n",
    "end = time.perf_counter()\n",
    "time_scion = end - start\n",
    "\n",
    "print( '-------------------------' )\n",
    "print( 'scion elapsed time = {:.3} s'.format( time_scion ) )\n",
    "print( '-------------------------' )\n"
   ]
  },
  {
   "cell_type": "code",
   "execution_count": 7,
   "id": "540d853c",
   "metadata": {},
   "outputs": [
    {
     "name": "stdout",
     "output_type": "stream",
     "text": [
      "scion coefficients : [-9.5, 14.75, -3.5, 0.25]\n",
      "scion coefficients : [-11.5, 14.75, -3.5, 0.25]\n",
      "-------------------------\n",
      "scion elapsed time = 2.76 s\n",
      "-------------------------\n"
     ]
    }
   ],
   "source": [
    "repeat = 1000000\n",
    "\n",
    "coeffients = [ -23./2., 59./4., -7./2., 1./4. ]\n",
    "\n",
    "scion_test = scion.math.ChebyshevSeries( coeffients )\n",
    "\n",
    "scion_test += 2\n",
    "print( 'scion coefficients :', scion_test.coefficients )\n",
    "scion_test -= 2\n",
    "print( 'scion coefficients :', scion_test.coefficients )\n",
    "\n",
    "start = time.perf_counter()\n",
    "for i in range( repeat ) : \n",
    "    scion_test += 2\n",
    "    scion_test -= 2\n",
    "end = time.perf_counter()\n",
    "time_scion = end - start\n",
    "\n",
    "print( '-------------------------' )\n",
    "print( 'scion elapsed time = {:.3} s'.format( time_scion ) )\n",
    "print( '-------------------------' )\n"
   ]
  },
  {
   "cell_type": "code",
   "execution_count": 8,
   "id": "3183dfe8",
   "metadata": {},
   "outputs": [
    {
     "name": "stdout",
     "output_type": "stream",
     "text": [
      "scion coefficients : [-23.0, 29.5, -7.0, 0.5]\n",
      "scion coefficients : [-11.5, 14.75, -3.5, 0.25]\n",
      "-------------------------\n",
      "scion elapsed time = 0.871 s\n",
      "-------------------------\n"
     ]
    }
   ],
   "source": [
    "repeat = 1000000\n",
    "\n",
    "coeffients = [ -23./2., 59./4., -7./2., 1./4. ]\n",
    "\n",
    "scion_test = scion.math.ChebyshevSeries( coeffients )\n",
    "\n",
    "scion_test *= 2\n",
    "print( 'scion coefficients :', scion_test.coefficients )\n",
    "scion_test /= 2\n",
    "print( 'scion coefficients :', scion_test.coefficients )\n",
    "\n",
    "start = time.perf_counter()\n",
    "for i in range( repeat ) : \n",
    "    scion_test *= 2\n",
    "    scion_test /= 2\n",
    "end = time.perf_counter()\n",
    "time_scion = end - start\n",
    "\n",
    "print( '-------------------------' )\n",
    "print( 'scion elapsed time = {:.3} s'.format( time_scion ) )\n",
    "print( '-------------------------' )\n"
   ]
  },
  {
   "cell_type": "code",
   "execution_count": 9,
   "id": "2c991d8c",
   "metadata": {},
   "outputs": [
    {
     "name": "stdout",
     "output_type": "stream",
     "text": [
      "scion coefficients : [-7.5, 17.75, -1.5, 1.25, 6.0]\n",
      "scion coefficients : [-11.5, 14.75, -3.5, 0.25]\n",
      "-------------------------\n",
      "scion elapsed time = 1.83 s\n",
      "-------------------------\n"
     ]
    }
   ],
   "source": [
    "repeat = 1000000\n",
    "\n",
    "coeffients = [ -23./2., 59./4., -7./2., 1./4. ]\n",
    "\n",
    "scion_test = scion.math.ChebyshevSeries( coeffients )\n",
    "series = scion.math.ChebyshevSeries( [ 4., 3., 2., 1., 6. ] )\n",
    "\n",
    "scion_test += series\n",
    "print( 'scion coefficients :', scion_test.coefficients )\n",
    "scion_test -= series\n",
    "print( 'scion coefficients :', scion_test.coefficients )\n",
    "\n",
    "start = time.perf_counter()\n",
    "for i in range( repeat ) : \n",
    "    scion_test += series\n",
    "    scion_test -= series\n",
    "end = time.perf_counter()\n",
    "time_scion = end - start\n",
    "\n",
    "print( '-------------------------' )\n",
    "print( 'scion elapsed time = {:.3} s'.format( time_scion ) )\n",
    "print( '-------------------------' )\n"
   ]
  },
  {
   "cell_type": "code",
   "execution_count": 10,
   "id": "26fca494",
   "metadata": {},
   "outputs": [
    {
     "name": "stdout",
     "output_type": "stream",
     "text": [
      "scion coefficients : [-9.5, 14.75, -3.5, 0.25]\n",
      "scion coefficients : [-13.5, 14.75, -3.5, 0.25]\n",
      "-------------------------\n",
      "scion elapsed time = 3.53 s\n",
      "-------------------------\n"
     ]
    }
   ],
   "source": [
    "repeat = 1000000\n",
    "\n",
    "coeffients = [ -23./2., 59./4., -7./2., 1./4. ]\n",
    "\n",
    "series = scion.math.ChebyshevSeries( coeffients )\n",
    "\n",
    "scion_test = series + 2\n",
    "print( 'scion coefficients :', scion_test.coefficients )\n",
    "scion_test = series - 2\n",
    "print( 'scion coefficients :', scion_test.coefficients )\n",
    "\n",
    "start = time.perf_counter()\n",
    "for i in range( repeat ) : \n",
    "    scion_test = series + 2\n",
    "    scion_test = series - 2\n",
    "end = time.perf_counter()\n",
    "time_scion = end - start\n",
    "\n",
    "print( '-------------------------' )\n",
    "print( 'scion elapsed time = {:.3} s'.format( time_scion ) )\n",
    "print( '-------------------------' )\n"
   ]
  },
  {
   "cell_type": "code",
   "execution_count": 11,
   "id": "ce91e0a3",
   "metadata": {},
   "outputs": [
    {
     "name": "stdout",
     "output_type": "stream",
     "text": [
      "scion coefficients : [-23.0, 29.5, -7.0, 0.5]\n",
      "scion coefficients : [-5.75, 7.375, -1.75, 0.125]\n",
      "-------------------------\n",
      "scion elapsed time = 1.62 s\n",
      "-------------------------\n"
     ]
    }
   ],
   "source": [
    "repeat = 1000000\n",
    "\n",
    "coeffients = [ -23./2., 59./4., -7./2., 1./4. ]\n",
    "\n",
    "series = scion.math.ChebyshevSeries( coeffients )\n",
    "\n",
    "scion_test = series * 2\n",
    "print( 'scion coefficients :', scion_test.coefficients )\n",
    "scion_test = series / 2\n",
    "print( 'scion coefficients :', scion_test.coefficients )\n",
    "\n",
    "start = time.perf_counter()\n",
    "for i in range( repeat ) : \n",
    "    scion_test = series * 2\n",
    "    scion_test = series / 2\n",
    "end = time.perf_counter()\n",
    "time_scion = end - start\n",
    "\n",
    "print( '-------------------------' )\n",
    "print( 'scion elapsed time = {:.3} s'.format( time_scion ) )\n",
    "print( '-------------------------' )\n"
   ]
  },
  {
   "cell_type": "code",
   "execution_count": 12,
   "id": "147cdbc4",
   "metadata": {},
   "outputs": [
    {
     "name": "stdout",
     "output_type": "stream",
     "text": [
      "scion coefficients : [-7.5, 17.75, -1.5, 1.25, 6.0]\n",
      "scion coefficients : [-15.5, 11.75, -5.5, -0.75, -6.0]\n",
      "-------------------------\n",
      "scion elapsed time = 2.58 s\n",
      "-------------------------\n"
     ]
    }
   ],
   "source": [
    "repeat = 1000000\n",
    "\n",
    "coeffients = [ -23./2., 59./4., -7./2., 1./4. ]\n",
    "\n",
    "series1 = scion.math.ChebyshevSeries( coeffients )\n",
    "series2 = scion.math.ChebyshevSeries( [ 4., 3., 2., 1., 6. ] )\n",
    "\n",
    "scion_test = series1 + series2\n",
    "print( 'scion coefficients :', scion_test.coefficients )\n",
    "scion_test = series1 - series2\n",
    "print( 'scion coefficients :', scion_test.coefficients )\n",
    "\n",
    "start = time.perf_counter()\n",
    "for i in range( repeat ) : \n",
    "    scion_test = series1 + series2\n",
    "    scion_test = series1 - series2\n",
    "end = time.perf_counter()\n",
    "time_scion = end - start\n",
    "\n",
    "print( '-------------------------' )\n",
    "print( 'scion elapsed time = {:.3} s'.format( time_scion ) )\n",
    "print( '-------------------------' )\n"
   ]
  },
  {
   "cell_type": "code",
   "execution_count": null,
   "id": "adaa6209",
   "metadata": {},
   "outputs": [],
   "source": []
  }
 ],
 "metadata": {
  "kernelspec": {
   "display_name": "Python 3",
   "language": "python",
   "name": "python3"
  },
  "language_info": {
   "codemirror_mode": {
    "name": "ipython",
    "version": 3
   },
   "file_extension": ".py",
   "mimetype": "text/x-python",
   "name": "python",
   "nbconvert_exporter": "python",
   "pygments_lexer": "ipython3",
   "version": "3.8.8"
  }
 },
 "nbformat": 4,
 "nbformat_minor": 5
}
