{
 "cells": [
  {
   "cell_type": "code",
   "execution_count": 1,
   "id": "c64ad866",
   "metadata": {},
   "outputs": [],
   "source": [
    "import scion\n",
    "import time\n",
    "import numpy"
   ]
  },
  {
   "cell_type": "code",
   "execution_count": 2,
   "id": "8984e222",
   "metadata": {},
   "outputs": [
    {
     "name": "stdout",
     "output_type": "stream",
     "text": [
      "scion : -8.0\n",
      "numpy : -8.0\n",
      "-------------------------\n",
      "scion elapsed time = 3.78 s\n",
      "numpy elapsed time = 37.5 s\n",
      "-------------------------\n",
      "numpy / scion = 9.925276580868175\n",
      "-------------------------\n"
     ]
    }
   ],
   "source": [
    "repeat = 10000000\n",
    "\n",
    "coeffients = [ -23./2., 59./4., -7./2., 1./4. ]\n",
    "\n",
    "scion_test = scion.math.ChebyshevSeries( coeffients )\n",
    "numpy_test = numpy.polynomial.chebyshev.Chebyshev( coeffients )\n",
    "\n",
    "print( 'scion :', scion_test( 0. ) )\n",
    "print( 'numpy :', numpy_test( 0. ) )\n",
    "\n",
    "start = time.perf_counter()\n",
    "for i in range( repeat ) : result = scion_test( 0. )\n",
    "end = time.perf_counter()\n",
    "time_scion = end - start\n",
    " \n",
    "start = time.perf_counter()\n",
    "for i in range( repeat ) : result = numpy_test( 0. )\n",
    "end = time.perf_counter()\n",
    "time_numpy = end - start\n",
    "\n",
    "print( '-------------------------' )\n",
    "print( 'scion elapsed time = {:.3} s'.format( time_scion ) )\n",
    "print( 'numpy elapsed time = {:.3} s'.format( time_numpy ) )\n",
    "print( '-------------------------' )\n",
    "print( 'numpy / scion = {}'.format( time_numpy / time_scion ) )\n",
    "print( '-------------------------' )\n"
   ]
  },
  {
   "cell_type": "code",
   "execution_count": 3,
   "id": "901a8fa2",
   "metadata": {},
   "outputs": [
    {
     "name": "stdout",
     "output_type": "stream",
     "text": [
      "scion : [0.9999999999999909, 2.0000000000000426, 3.9999999999999494]\n",
      "numpy : [1. 2. 4.]\n",
      "-------------------------\n",
      "scion elapsed time = 2.17 s\n",
      "numpy elapsed time = 41.8 s\n",
      "-------------------------\n",
      "numpy / scion = 19.253030951657482\n",
      "-------------------------\n"
     ]
    }
   ],
   "source": [
    "repeat = 1000000\n",
    "\n",
    "coeffients = [ -23./2., 59./4., -7./2., 1./4. ]\n",
    "\n",
    "scion_test = scion.math.ChebyshevSeries( coeffients )\n",
    "numpy_test = numpy.polynomial.chebyshev.Chebyshev( coeffients )\n",
    "\n",
    "print( 'scion :', scion_test.roots() )\n",
    "print( 'numpy :', numpy_test.roots() )\n",
    "\n",
    "start = time.perf_counter()\n",
    "for i in range( repeat ) : result = scion_test.roots()\n",
    "end = time.perf_counter()\n",
    "time_scion = end - start\n",
    " \n",
    "start = time.perf_counter()\n",
    "for i in range( repeat ) : result = numpy_test.roots()\n",
    "end = time.perf_counter()\n",
    "time_numpy = end - start\n",
    "\n",
    "print( '-------------------------' )\n",
    "print( 'scion elapsed time = {:.3} s'.format( time_scion ) )\n",
    "print( 'numpy elapsed time = {:.3} s'.format( time_numpy ) )\n",
    "print( '-------------------------' )\n",
    "print( 'numpy / scion = {}'.format( time_numpy / time_scion ) )\n",
    "print( '-------------------------' )\n"
   ]
  },
  {
   "cell_type": "code",
   "execution_count": 4,
   "id": "6cb1b781",
   "metadata": {},
   "outputs": [
    {
     "name": "stdout",
     "output_type": "stream",
     "text": [
      "scion : [15.5, -14.0, 1.5]\n",
      "numpy : 15.5 - 14.0·T₁(x) + 1.5·T₂(x)\n",
      "-------------------------\n",
      "scion elapsed time = 0.744 s\n",
      "numpy elapsed time = 26.0 s\n",
      "-------------------------\n",
      "numpy / scion = 34.96782397013042\n",
      "-------------------------\n"
     ]
    }
   ],
   "source": [
    "repeat = 1000000\n",
    "\n",
    "coeffients = [ -23./2., 59./4., -7./2., 1./4. ]\n",
    "\n",
    "scion_test = scion.math.ChebyshevSeries( coeffients )\n",
    "numpy_test = numpy.polynomial.chebyshev.Chebyshev( coeffients )\n",
    "\n",
    "print( 'scion :', scion_test.derivative().coefficients )\n",
    "print( 'numpy :', numpy_test.deriv() )\n",
    "\n",
    "start = time.perf_counter()\n",
    "for i in range( repeat ) : result = scion_test.derivative()\n",
    "end = time.perf_counter()\n",
    "time_scion = end - start\n",
    " \n",
    "start = time.perf_counter()\n",
    "for i in range( repeat ) : result = numpy_test.deriv()\n",
    "end = time.perf_counter()\n",
    "time_numpy = end - start\n",
    "\n",
    "print( '-------------------------' )\n",
    "print( 'scion elapsed time = {:.3} s'.format( time_scion ) )\n",
    "print( 'numpy elapsed time = {:.3} s'.format( time_numpy ) )\n",
    "print( '-------------------------' )\n",
    "print( 'numpy / scion = {}'.format( time_numpy / time_scion ) )\n",
    "print( '-------------------------' )\n"
   ]
  },
  {
   "cell_type": "code",
   "execution_count": 5,
   "id": "44d0fd48",
   "metadata": {},
   "outputs": [
    {
     "name": "stdout",
     "output_type": "stream",
     "text": [
      "scion : [-13.989583333333332, -9.75, 3.625, -0.5833333333333334, 0.03125]\n",
      "numpy : -13.989583333333332 - 9.75·T₁(x) + 3.625·T₂(x) -\n",
      "0.5833333333333334·T₃(x) + 0.03125·T₄(x)\n",
      "-------------------------\n",
      "scion elapsed time = 1.07 s\n",
      "numpy elapsed time = 32.1 s\n",
      "-------------------------\n",
      "numpy / scion = 29.897699532377235\n",
      "-------------------------\n"
     ]
    }
   ],
   "source": [
    "repeat = 1000000\n",
    "\n",
    "coeffients = [ -23./2., 59./4., -7./2., 1./4. ]\n",
    "\n",
    "scion_test = scion.math.ChebyshevSeries( coeffients )\n",
    "numpy_test = numpy.polynomial.chebyshev.Chebyshev( coeffients )\n",
    "\n",
    "print( 'scion :', scion_test.primitive( left = -1. ).coefficients )\n",
    "print( 'numpy :', numpy_test.integ( lbnd = -1 ) )\n",
    "\n",
    "start = time.perf_counter()\n",
    "for i in range( repeat ) : result = scion_test.primitive( left = -1. )\n",
    "end = time.perf_counter()\n",
    "time_scion = end - start\n",
    " \n",
    "start = time.perf_counter()\n",
    "for i in range( repeat ) : result = numpy_test.integ( lbnd = -1. )\n",
    "end = time.perf_counter()\n",
    "time_numpy = end - start\n",
    "\n",
    "print( '-------------------------' )\n",
    "print( 'scion elapsed time = {:.3} s'.format( time_scion ) )\n",
    "print( 'numpy elapsed time = {:.3} s'.format( time_numpy ) )\n",
    "print( '-------------------------' )\n",
    "print( 'numpy / scion = {}'.format( time_numpy / time_scion ) )\n",
    "print( '-------------------------' )\n"
   ]
  },
  {
   "cell_type": "code",
   "execution_count": null,
   "id": "b726f7d0",
   "metadata": {},
   "outputs": [],
   "source": []
  }
 ],
 "metadata": {
  "kernelspec": {
   "display_name": "Python 3",
   "language": "python",
   "name": "python3"
  },
  "language_info": {
   "codemirror_mode": {
    "name": "ipython",
    "version": 3
   },
   "file_extension": ".py",
   "mimetype": "text/x-python",
   "name": "python",
   "nbconvert_exporter": "python",
   "pygments_lexer": "ipython3",
   "version": "3.8.8"
  }
 },
 "nbformat": 4,
 "nbformat_minor": 5
}
