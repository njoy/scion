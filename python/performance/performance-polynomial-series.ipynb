{
 "cells": [
  {
   "cell_type": "code",
   "execution_count": 1,
   "id": "c64ad866",
   "metadata": {},
   "outputs": [],
   "source": [
    "import scion\n",
    "import time\n",
    "import numpy"
   ]
  },
  {
   "cell_type": "code",
   "execution_count": 2,
   "id": "8984e222",
   "metadata": {},
   "outputs": [
    {
     "name": "stdout",
     "output_type": "stream",
     "text": [
      "scion : 0.0\n",
      "numpy : 0.0\n",
      "-------------------------\n",
      "scion elapsed time = 0.0247 s\n",
      "numpy elapsed time = 0.934 s\n",
      "-------------------------\n",
      "numpy / scion = 37.849392880651884\n",
      "-------------------------\n"
     ]
    }
   ],
   "source": [
    "repeat = 1000\n",
    "\n",
    "coeffients = range(5000)\n",
    "\n",
    "scion_test = scion.math.PolynomialSeries( coeffients )\n",
    "numpy_test = numpy.polynomial.Polynomial( coeffients )\n",
    "\n",
    "print( 'scion :', scion_test( 0. ) )\n",
    "print( 'numpy :', numpy_test( 0. ) )\n",
    "\n",
    "start = time.perf_counter()\n",
    "for i in range( repeat ) : result = scion_test( 0. )\n",
    "end = time.perf_counter()\n",
    "time_scion = end - start\n",
    " \n",
    "start = time.perf_counter()\n",
    "for i in range( repeat ) : result = numpy_test( 0. )\n",
    "end = time.perf_counter()\n",
    "time_numpy = end - start\n",
    "\n",
    "print( '-------------------------' )\n",
    "print( 'scion elapsed time = {:.3} s'.format( time_scion ) )\n",
    "print( 'numpy elapsed time = {:.3} s'.format( time_numpy ) )\n",
    "print( '-------------------------' )\n",
    "print( 'numpy / scion = {}'.format( time_numpy / time_scion ) )\n",
    "print( '-------------------------' )\n"
   ]
  },
  {
   "cell_type": "code",
   "execution_count": null,
   "id": "b0e95443",
   "metadata": {},
   "outputs": [],
   "source": []
  }
 ],
 "metadata": {
  "kernelspec": {
   "display_name": "Python 3",
   "language": "python",
   "name": "python3"
  },
  "language_info": {
   "codemirror_mode": {
    "name": "ipython",
    "version": 3
   },
   "file_extension": ".py",
   "mimetype": "text/x-python",
   "name": "python",
   "nbconvert_exporter": "python",
   "pygments_lexer": "ipython3",
   "version": "3.8.8"
  }
 },
 "nbformat": 4,
 "nbformat_minor": 5
}
