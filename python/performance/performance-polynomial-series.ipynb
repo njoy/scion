{
 "cells": [
  {
   "cell_type": "code",
   "execution_count": 1,
   "id": "c64ad866",
   "metadata": {},
   "outputs": [],
   "source": [
    "import scion\n",
    "import time\n",
    "import numpy"
   ]
  },
  {
   "cell_type": "code",
   "execution_count": 2,
   "id": "8984e222",
   "metadata": {},
   "outputs": [
    {
     "name": "stdout",
     "output_type": "stream",
     "text": [
      "scion : -8.0\n",
      "numpy : -8.0\n",
      "-------------------------\n",
      "scion elapsed time = 3.74 s\n",
      "numpy elapsed time = 27.1 s\n",
      "-------------------------\n",
      "numpy / scion = 7.229168794998366\n",
      "-------------------------\n"
     ]
    }
   ],
   "source": [
    "repeat = 10000000\n",
    "\n",
    "coeffients = [ -8., 14., -7., 1. ]\n",
    "\n",
    "scion_test = scion.math.PolynomialSeries( coeffients )\n",
    "numpy_test = numpy.polynomial.Polynomial( coeffients )\n",
    "\n",
    "print( 'scion :', scion_test( 0. ) )\n",
    "print( 'numpy :', numpy_test( 0. ) )\n",
    "\n",
    "start = time.perf_counter()\n",
    "for i in range( repeat ) : result = scion_test( 0. )\n",
    "end = time.perf_counter()\n",
    "time_scion = end - start\n",
    " \n",
    "start = time.perf_counter()\n",
    "for i in range( repeat ) : result = numpy_test( 0. )\n",
    "end = time.perf_counter()\n",
    "time_numpy = end - start\n",
    "\n",
    "print( '-------------------------' )\n",
    "print( 'scion elapsed time = {:.3} s'.format( time_scion ) )\n",
    "print( 'numpy elapsed time = {:.3} s'.format( time_numpy ) )\n",
    "print( '-------------------------' )\n",
    "print( 'numpy / scion = {}'.format( time_numpy / time_scion ) )\n",
    "print( '-------------------------' )\n"
   ]
  },
  {
   "cell_type": "code",
   "execution_count": 3,
   "id": "b0e95443",
   "metadata": {},
   "outputs": [
    {
     "name": "stdout",
     "output_type": "stream",
     "text": [
      "scion : [1.0000000000000027, 1.999999999999982, 4.000000000000006]\n",
      "numpy : [1. 2. 4.]\n",
      "-------------------------\n",
      "scion elapsed time = 2.15 s\n",
      "numpy elapsed time = 35.9 s\n",
      "-------------------------\n",
      "numpy / scion = 16.722194521204315\n",
      "-------------------------\n"
     ]
    }
   ],
   "source": [
    "repeat = 1000000\n",
    "\n",
    "coeffients = [ -8., 14., -7., 1. ]\n",
    "\n",
    "scion_test = scion.math.PolynomialSeries( coeffients )\n",
    "numpy_test = numpy.polynomial.Polynomial( coeffients )\n",
    "\n",
    "print( 'scion :', scion_test.roots() )\n",
    "print( 'numpy :', numpy_test.roots() )\n",
    "\n",
    "start = time.perf_counter()\n",
    "for i in range( repeat ) : result = scion_test.roots()\n",
    "end = time.perf_counter()\n",
    "time_scion = end - start\n",
    " \n",
    "start = time.perf_counter()\n",
    "for i in range( repeat ) : result = numpy_test.roots()\n",
    "end = time.perf_counter()\n",
    "time_numpy = end - start\n",
    "\n",
    "print( '-------------------------' )\n",
    "print( 'scion elapsed time = {:.3} s'.format( time_scion ) )\n",
    "print( 'numpy elapsed time = {:.3} s'.format( time_numpy ) )\n",
    "print( '-------------------------' )\n",
    "print( 'numpy / scion = {}'.format( time_numpy / time_scion ) )\n",
    "print( '-------------------------' )\n"
   ]
  },
  {
   "cell_type": "code",
   "execution_count": 4,
   "id": "826f40e6",
   "metadata": {},
   "outputs": [
    {
     "name": "stdout",
     "output_type": "stream",
     "text": [
      "scion : [14.0, -14.0, 3.0]\n",
      "numpy : 14.0 - 14.0·x¹ + 3.0·x²\n",
      "-------------------------\n",
      "scion elapsed time = 0.747 s\n",
      "numpy elapsed time = 24.6 s\n",
      "-------------------------\n",
      "numpy / scion = 32.980075257952045\n",
      "-------------------------\n"
     ]
    }
   ],
   "source": [
    "repeat = 1000000\n",
    "\n",
    "coeffients = [ -8., 14., -7., 1. ]\n",
    "\n",
    "scion_test = scion.math.PolynomialSeries( coeffients )\n",
    "numpy_test = numpy.polynomial.Polynomial( coeffients )\n",
    "\n",
    "print( 'scion :', scion_test.derivative().coefficients )\n",
    "print( 'numpy :', numpy_test.deriv() )\n",
    "\n",
    "start = time.perf_counter()\n",
    "for i in range( repeat ) : result = scion_test.derivative()\n",
    "end = time.perf_counter()\n",
    "time_scion = end - start\n",
    " \n",
    "start = time.perf_counter()\n",
    "for i in range( repeat ) : result = numpy_test.deriv()\n",
    "end = time.perf_counter()\n",
    "time_numpy = end - start\n",
    "\n",
    "print( '-------------------------' )\n",
    "print( 'scion elapsed time = {:.3} s'.format( time_scion ) )\n",
    "print( 'numpy elapsed time = {:.3} s'.format( time_numpy ) )\n",
    "print( '-------------------------' )\n",
    "print( 'numpy / scion = {}'.format( time_numpy / time_scion ) )\n",
    "print( '-------------------------' )\n"
   ]
  },
  {
   "cell_type": "code",
   "execution_count": 5,
   "id": "51bc9324",
   "metadata": {},
   "outputs": [
    {
     "name": "stdout",
     "output_type": "stream",
     "text": [
      "scion : [-17.583333333333336, -8.0, 7.0, -2.3333333333333335, 0.25]\n",
      "numpy : -17.583333333333336 - 8.0·x¹ + 7.0·x² - 2.3333333333333335·x³ + 0.25·x⁴\n",
      "-------------------------\n",
      "scion elapsed time = 1.06 s\n",
      "numpy elapsed time = 29.5 s\n",
      "-------------------------\n",
      "numpy / scion = 27.754879691441296\n",
      "-------------------------\n"
     ]
    }
   ],
   "source": [
    "repeat = 1000000\n",
    "\n",
    "coeffients = [ -8., 14., -7., 1. ]\n",
    "\n",
    "scion_test = scion.math.PolynomialSeries( coeffients )\n",
    "numpy_test = numpy.polynomial.Polynomial( coeffients )\n",
    "\n",
    "print( 'scion :', scion_test.primitive( left = -1. ).coefficients )\n",
    "print( 'numpy :', numpy_test.integ( lbnd = -1. ) )\n",
    "\n",
    "start = time.perf_counter()\n",
    "for i in range( repeat ) : result = scion_test.primitive( left = -1. )\n",
    "end = time.perf_counter()\n",
    "time_scion = end - start\n",
    " \n",
    "start = time.perf_counter()\n",
    "for i in range( repeat ) : result = numpy_test.integ( lbnd = -1. )\n",
    "end = time.perf_counter()\n",
    "time_numpy = end - start\n",
    "\n",
    "print( '-------------------------' )\n",
    "print( 'scion elapsed time = {:.3} s'.format( time_scion ) )\n",
    "print( 'numpy elapsed time = {:.3} s'.format( time_numpy ) )\n",
    "print( '-------------------------' )\n",
    "print( 'numpy / scion = {}'.format( time_numpy / time_scion ) )\n",
    "print( '-------------------------' )\n"
   ]
  },
  {
   "cell_type": "code",
   "execution_count": 6,
   "id": "5df75de7",
   "metadata": {},
   "outputs": [
    {
     "name": "stdout",
     "output_type": "stream",
     "text": [
      "scion x : [-1.0, -0.9375, -0.875, -0.8125, -0.75, -0.6875, -0.625, -0.5625, -0.5, -0.4375, -0.375, -0.3125, -0.25, -0.1875, -0.125, -0.0625, 0.0, 0.0625, 0.125, 0.15625, 0.1875, 0.21875, 0.25, 0.28125, 0.3125, 0.34375, 0.375, 0.40625, 0.4375, 0.46875, 0.5, 0.53125, 0.5625, 0.59375, 0.625, 0.65625, 0.6875, 0.71875, 0.734375, 0.75, 0.765625, 0.78125, 0.796875, 0.8125, 0.828125, 0.84375, 0.859375, 0.875, 0.890625, 0.90625, 0.921875, 0.9296875, 0.9375, 0.9453125, 0.953125, 0.9609375, 0.96875, 0.9765625, 0.98046875, 0.984375, 0.98828125, 0.9921875, 0.99609375, 0.998046875, 0.9990234375, 1.0]\n",
      "scion y : [-30.0, -28.101318359375, -26.279296875, -24.532470703125, -22.859375, -21.258544921875, -19.728515625, -18.267822265625, -16.875, -15.548583984375, -14.287109375, -13.089111328125, -11.953125, -10.877685546875, -9.861328125, -8.902587890625, -8.0, -7.152099609375, -6.357421875, -5.979583740234375, -5.614501953125, -5.261993408203125, -4.921875, -4.593963623046875, -4.278076171875, -3.974029541015625, -3.681640625, -3.400726318359375, -3.131103515625, -2.872589111328125, -2.625, -2.388153076171875, -2.161865234375, -1.945953369140625, -1.740234375, -1.544525146484375, -1.358642578125, -1.182403564453125, -1.0978431701660156, -1.015625, -0.9357261657714844, -0.858123779296875, -0.7827949523925781, -0.709716796875, -0.6388664245605469, -0.570220947265625, -0.5037574768066406, -0.439453125, -0.3772850036621094, -0.317230224609375, -0.2592658996582031, -0.23106050491333008, -0.203369140625, -0.17618894577026367, -0.14951705932617188, -0.12335062026977539, -0.097686767578125, -0.07252264022827148, -0.060127079486846924, -0.047855377197265625, -0.035707175731658936, -0.023682117462158203, -0.011779844760894775, -0.005874641239643097, -0.0029335031285881996, 0.0]\n",
      "-------------------------\n",
      "scion elapsed time = 4.63 s\n",
      "-------------------------\n"
     ]
    }
   ],
   "source": [
    "repeat = 1000000\n",
    "\n",
    "coeffients = [ -8., 14., -7., 1. ]\n",
    "\n",
    "scion_test = scion.math.PolynomialSeries( -1., 1, coeffients )\n",
    "\n",
    "result = scion_test.linearise()\n",
    "print( 'scion x :', result.x )\n",
    "print( 'scion y :', result.y )\n",
    "\n",
    "start = time.perf_counter()\n",
    "for i in range( repeat ) : result = scion_test.linearise()\n",
    "end = time.perf_counter()\n",
    "time_scion = end - start\n",
    "\n",
    "print( '-------------------------' )\n",
    "print( 'scion elapsed time = {:.3} s'.format( time_scion ) )\n",
    "print( '-------------------------' )\n"
   ]
  },
  {
   "cell_type": "code",
   "execution_count": null,
   "id": "db8232c4",
   "metadata": {},
   "outputs": [],
   "source": []
  }
 ],
 "metadata": {
  "kernelspec": {
   "display_name": "Python 3",
   "language": "python",
   "name": "python3"
  },
  "language_info": {
   "codemirror_mode": {
    "name": "ipython",
    "version": 3
   },
   "file_extension": ".py",
   "mimetype": "text/x-python",
   "name": "python",
   "nbconvert_exporter": "python",
   "pygments_lexer": "ipython3",
   "version": "3.8.8"
  }
 },
 "nbformat": 4,
 "nbformat_minor": 5
}
