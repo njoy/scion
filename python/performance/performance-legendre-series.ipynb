{
 "cells": [
  {
   "cell_type": "code",
   "execution_count": 1,
   "id": "c64ad866",
   "metadata": {},
   "outputs": [],
   "source": [
    "import scion\n",
    "import time\n",
    "import numpy"
   ]
  },
  {
   "cell_type": "code",
   "execution_count": 2,
   "id": "8984e222",
   "metadata": {},
   "outputs": [
    {
     "name": "stdout",
     "output_type": "stream",
     "text": [
      "scion : -8.0\n",
      "numpy : -8.0\n",
      "-------------------------\n",
      "scion elapsed time = 3.85 s\n",
      "numpy elapsed time = 41.4 s\n",
      "-------------------------\n",
      "numpy / scion = 10.745814695505988\n",
      "-------------------------\n"
     ]
    }
   ],
   "source": [
    "repeat = 10000000\n",
    "\n",
    "coeffients = [ -31./3., 73./5., -14./3., 2./5. ]\n",
    "\n",
    "scion_test = scion.math.LegendreSeries( coeffients )\n",
    "numpy_test = numpy.polynomial.legendre.Legendre( coeffients )\n",
    "\n",
    "print( 'scion :', scion_test( 0. ) )\n",
    "print( 'numpy :', numpy_test( 0. ) )\n",
    "\n",
    "start = time.perf_counter()\n",
    "for i in range( repeat ) : result = scion_test( 0. )\n",
    "end = time.perf_counter()\n",
    "time_scion = end - start\n",
    " \n",
    "start = time.perf_counter()\n",
    "for i in range( repeat ) : result = numpy_test( 0. )\n",
    "end = time.perf_counter()\n",
    "time_numpy = end - start\n",
    "\n",
    "print( '-------------------------' )\n",
    "print( 'scion elapsed time = {:.3} s'.format( time_scion ) )\n",
    "print( 'numpy elapsed time = {:.3} s'.format( time_numpy ) )\n",
    "print( '-------------------------' )\n",
    "print( 'numpy / scion = {}'.format( time_numpy / time_scion ) )\n",
    "print( '-------------------------' )\n"
   ]
  },
  {
   "cell_type": "code",
   "execution_count": 3,
   "id": "274c8d03",
   "metadata": {},
   "outputs": [
    {
     "name": "stdout",
     "output_type": "stream",
     "text": [
      "scion : [(1.0000000000000115+0j), (4.000000000000031+0j), (1.99999999999996+0j)]\n",
      "numpy : [1. 2. 4.]\n",
      "-------------------------\n",
      "scion elapsed time = 2.18 s\n",
      "numpy elapsed time = 45.6 s\n",
      "-------------------------\n",
      "numpy / scion = 20.969233276264077\n",
      "-------------------------\n"
     ]
    }
   ],
   "source": [
    "repeat = 1000000\n",
    "\n",
    "coeffients = [ -31./3., 73./5., -14./3., 2./5. ]\n",
    "\n",
    "scion_test = scion.math.LegendreSeries( coeffients )\n",
    "numpy_test = numpy.polynomial.legendre.Legendre( coeffients )\n",
    "\n",
    "print( 'scion :', scion_test.roots() )\n",
    "print( 'numpy :', numpy_test.roots() )\n",
    "\n",
    "start = time.perf_counter()\n",
    "for i in range( repeat ) : result = scion_test.roots()\n",
    "end = time.perf_counter()\n",
    "time_scion = end - start\n",
    " \n",
    "start = time.perf_counter()\n",
    "for i in range( repeat ) : result = numpy_test.roots()\n",
    "end = time.perf_counter()\n",
    "time_numpy = end - start\n",
    "\n",
    "print( '-------------------------' )\n",
    "print( 'scion elapsed time = {:.3} s'.format( time_scion ) )\n",
    "print( 'numpy elapsed time = {:.3} s'.format( time_numpy ) )\n",
    "print( '-------------------------' )\n",
    "print( 'numpy / scion = {}'.format( time_numpy / time_scion ) )\n",
    "print( '-------------------------' )\n"
   ]
  },
  {
   "cell_type": "code",
   "execution_count": null,
   "id": "7ff57718",
   "metadata": {},
   "outputs": [],
   "source": []
  }
 ],
 "metadata": {
  "kernelspec": {
   "display_name": "Python 3",
   "language": "python",
   "name": "python3"
  },
  "language_info": {
   "codemirror_mode": {
    "name": "ipython",
    "version": 3
   },
   "file_extension": ".py",
   "mimetype": "text/x-python",
   "name": "python",
   "nbconvert_exporter": "python",
   "pygments_lexer": "ipython3",
   "version": "3.8.8"
  }
 },
 "nbformat": 4,
 "nbformat_minor": 5
}
