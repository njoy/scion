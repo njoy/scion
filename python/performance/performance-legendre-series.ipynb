{
 "cells": [
  {
   "cell_type": "code",
   "execution_count": 1,
   "id": "c64ad866",
   "metadata": {},
   "outputs": [],
   "source": [
    "import scion\n",
    "import time\n",
    "import numpy"
   ]
  },
  {
   "cell_type": "code",
   "execution_count": 2,
   "id": "8984e222",
   "metadata": {},
   "outputs": [
    {
     "name": "stdout",
     "output_type": "stream",
     "text": [
      "scion : -8.0\n",
      "numpy : -8.0\n",
      "-------------------------\n",
      "scion elapsed time = 3.76 s\n",
      "numpy elapsed time = 41.8 s\n",
      "-------------------------\n",
      "numpy / scion = 11.093056835853787\n",
      "-------------------------\n"
     ]
    }
   ],
   "source": [
    "repeat = 10000000\n",
    "\n",
    "coeffients = [ -31./3., 73./5., -14./3., 2./5. ]\n",
    "\n",
    "scion_test = scion.math.LegendreSeries( coeffients )\n",
    "numpy_test = numpy.polynomial.legendre.Legendre( coeffients )\n",
    "\n",
    "print( 'scion :', scion_test( 0. ) )\n",
    "print( 'numpy :', numpy_test( 0. ) )\n",
    "\n",
    "start = time.perf_counter()\n",
    "for i in range( repeat ) : result = scion_test( 0. )\n",
    "end = time.perf_counter()\n",
    "time_scion = end - start\n",
    " \n",
    "start = time.perf_counter()\n",
    "for i in range( repeat ) : result = numpy_test( 0. )\n",
    "end = time.perf_counter()\n",
    "time_numpy = end - start\n",
    "\n",
    "print( '-------------------------' )\n",
    "print( 'scion elapsed time = {:.3} s'.format( time_scion ) )\n",
    "print( 'numpy elapsed time = {:.3} s'.format( time_numpy ) )\n",
    "print( '-------------------------' )\n",
    "print( 'numpy / scion = {}'.format( time_numpy / time_scion ) )\n",
    "print( '-------------------------' )\n"
   ]
  },
  {
   "cell_type": "code",
   "execution_count": 3,
   "id": "274c8d03",
   "metadata": {},
   "outputs": [
    {
     "name": "stdout",
     "output_type": "stream",
     "text": [
      "scion : [1.0000000000000004, 1.9999999999999987, 3.9999999999999996]\n",
      "numpy : [1. 2. 4.]\n",
      "-------------------------\n",
      "scion elapsed time = 2.06 s\n",
      "numpy elapsed time = 45.8 s\n",
      "-------------------------\n",
      "numpy / scion = 22.203500988422157\n",
      "-------------------------\n"
     ]
    }
   ],
   "source": [
    "repeat = 1000000\n",
    "\n",
    "coeffients = [ -31./3., 73./5., -14./3., 2./5. ]\n",
    "\n",
    "scion_test = scion.math.LegendreSeries( coeffients )\n",
    "numpy_test = numpy.polynomial.legendre.Legendre( coeffients )\n",
    "\n",
    "print( 'scion :', scion_test.roots() )\n",
    "print( 'numpy :', numpy_test.roots() )\n",
    "\n",
    "start = time.perf_counter()\n",
    "for i in range( repeat ) : result = scion_test.roots()\n",
    "end = time.perf_counter()\n",
    "time_scion = end - start\n",
    " \n",
    "start = time.perf_counter()\n",
    "for i in range( repeat ) : result = numpy_test.roots()\n",
    "end = time.perf_counter()\n",
    "time_numpy = end - start\n",
    "\n",
    "print( '-------------------------' )\n",
    "print( 'scion elapsed time = {:.3} s'.format( time_scion ) )\n",
    "print( 'numpy elapsed time = {:.3} s'.format( time_numpy ) )\n",
    "print( '-------------------------' )\n",
    "print( 'numpy / scion = {}'.format( time_numpy / time_scion ) )\n",
    "print( '-------------------------' )\n"
   ]
  },
  {
   "cell_type": "code",
   "execution_count": 4,
   "id": "ea2d3436",
   "metadata": {},
   "outputs": [
    {
     "name": "stdout",
     "output_type": "stream",
     "text": [
      "scion : [15.0, -14.0, 2.0]\n",
      "numpy : 15.0 - 14.0·P₁(x) + 2.0·P₂(x)\n",
      "-------------------------\n",
      "scion elapsed time = 0.773 s\n",
      "numpy elapsed time = 24.9 s\n",
      "-------------------------\n",
      "numpy / scion = 32.20316535983838\n",
      "-------------------------\n"
     ]
    }
   ],
   "source": [
    "repeat = 1000000\n",
    "\n",
    "coeffients = [ -31./3., 73./5., -14./3., 2./5. ]\n",
    "\n",
    "scion_test = scion.math.LegendreSeries( coeffients )\n",
    "numpy_test = numpy.polynomial.legendre.Legendre( coeffients )\n",
    "\n",
    "print( 'scion :', scion_test.derivative().coefficients )\n",
    "print( 'numpy :', numpy_test.deriv() )\n",
    "\n",
    "start = time.perf_counter()\n",
    "for i in range( repeat ) : result = scion_test.derivative()\n",
    "end = time.perf_counter()\n",
    "time_scion = end - start\n",
    " \n",
    "start = time.perf_counter()\n",
    "for i in range( repeat ) : result = numpy_test.deriv()\n",
    "end = time.perf_counter()\n",
    "time_numpy = end - start\n",
    "\n",
    "print( '-------------------------' )\n",
    "print( 'scion elapsed time = {:.3} s'.format( time_scion ) )\n",
    "print( 'numpy elapsed time = {:.3} s'.format( time_numpy ) )\n",
    "print( '-------------------------' )\n",
    "print( 'numpy / scion = {}'.format( time_numpy / time_scion ) )\n",
    "print( '-------------------------' )\n"
   ]
  },
  {
   "cell_type": "code",
   "execution_count": 5,
   "id": "9f947ab7",
   "metadata": {},
   "outputs": [
    {
     "name": "stdout",
     "output_type": "stream",
     "text": [
      "scion : [-15.200000000000003, -9.4, 4.809523809523809, -0.9333333333333333, 0.05714285714285715]\n",
      "numpy : -15.200000000000003 - 9.4·P₁(x) + 4.809523809523809·P₂(x) -\n",
      "0.9333333333333333·P₃(x) + 0.05714285714285715·P₄(x)\n",
      "-------------------------\n",
      "scion elapsed time = 1.09 s\n",
      "numpy elapsed time = 32.6 s\n",
      "-------------------------\n",
      "numpy / scion = 29.79663393650965\n",
      "-------------------------\n"
     ]
    }
   ],
   "source": [
    "repeat = 1000000\n",
    "\n",
    "coeffients = [ -31./3., 73./5., -14./3., 2./5. ]\n",
    "\n",
    "scion_test = scion.math.LegendreSeries( coeffients )\n",
    "numpy_test = numpy.polynomial.legendre.Legendre( coeffients )\n",
    "\n",
    "print( 'scion :', scion_test.primitive( left = -1. ).coefficients )\n",
    "print( 'numpy :', numpy_test.integ( lbnd = -1 ) )\n",
    "\n",
    "start = time.perf_counter()\n",
    "for i in range( repeat ) : result = scion_test.primitive( left = -1. )\n",
    "end = time.perf_counter()\n",
    "time_scion = end - start\n",
    " \n",
    "start = time.perf_counter()\n",
    "for i in range( repeat ) : result = numpy_test.integ( lbnd = -1. )\n",
    "end = time.perf_counter()\n",
    "time_numpy = end - start\n",
    "\n",
    "print( '-------------------------' )\n",
    "print( 'scion elapsed time = {:.3} s'.format( time_scion ) )\n",
    "print( 'numpy elapsed time = {:.3} s'.format( time_numpy ) )\n",
    "print( '-------------------------' )\n",
    "print( 'numpy / scion = {}'.format( time_numpy / time_scion ) )\n",
    "print( '-------------------------' )\n"
   ]
  },
  {
   "cell_type": "code",
   "execution_count": 6,
   "id": "7ff57718",
   "metadata": {},
   "outputs": [
    {
     "name": "stdout",
     "output_type": "stream",
     "text": [
      "scion x : [-1.0, -0.9375, -0.875, -0.8125, -0.75, -0.6875, -0.625, -0.5625, -0.5, -0.4375, -0.375, -0.3125, -0.25, -0.1875, -0.125, -0.0625, 0.0, 0.0625, 0.125, 0.15625, 0.1875, 0.21875, 0.25, 0.28125, 0.3125, 0.34375, 0.375, 0.40625, 0.4375, 0.46875, 0.5, 0.53125, 0.5625, 0.59375, 0.625, 0.65625, 0.6875, 0.71875, 0.734375, 0.75, 0.765625, 0.78125, 0.796875, 0.8125, 0.828125, 0.84375, 0.859375, 0.875, 0.890625, 0.90625, 0.921875, 0.9296875, 0.9375, 0.9453125, 0.953125, 0.9609375, 0.96875, 0.9765625, 0.98046875, 0.984375, 0.98828125, 0.9921875, 0.99609375, 0.998046875, 0.9990234375, 1.0]\n",
      "scion y : [-30.0, -28.101318359375, -26.279296875, -24.532470703125, -22.859375, -21.258544921875, -19.728515625, -18.267822265625, -16.875, -15.548583984375, -14.287109375, -13.089111328125, -11.953125, -10.877685546875, -9.861328125, -8.902587890625, -8.0, -7.152099609375001, -6.357421875, -5.979583740234376, -5.614501953125, -5.261993408203125, -4.921875000000001, -4.593963623046876, -4.278076171875001, -3.974029541015626, -3.681640625, -3.400726318359376, -3.131103515625001, -2.8725891113281268, -2.625000000000001, -2.388153076171876, -2.1618652343750018, -1.9459533691406268, -1.7402343750000018, -1.5445251464843768, -1.3586425781250018, -1.1824035644531268, -1.0978431701660174, -1.0156250000000018, -0.9357261657714862, -0.8581237792968768, -0.7827949523925799, -0.7097167968750018, -0.6388664245605487, -0.5702209472656268, -0.5037574768066424, -0.4394531250000018, -0.37728500366211115, -0.3172302246093768, -0.2592658996582049, -0.23106050491333185, -0.20336914062500178, -0.17618894577026545, -0.14951705932617365, -0.12335062026977717, -0.09768676757812678, -0.07252264022827326, -0.0601270794868487, -0.0478553771972674, -0.03570717573166071, -0.02368211746215998, -0.011779844760896552, -0.005874641239644873, -0.002933503128589976, -1.7763568394002505e-15]\n",
      "-------------------------\n",
      "scion elapsed time = 4.95 s\n",
      "-------------------------\n"
     ]
    }
   ],
   "source": [
    "repeat = 1000000\n",
    "\n",
    "coeffients = [ -31./3., 73./5., -14./3., 2./5. ]\n",
    "\n",
    "scion_test = scion.math.LegendreSeries( coeffients )\n",
    "\n",
    "result = scion_test.linearise()\n",
    "print( 'scion x :', result.x )\n",
    "print( 'scion y :', result.y )\n",
    "\n",
    "start = time.perf_counter()\n",
    "for i in range( repeat ) : result = scion_test.linearise()\n",
    "end = time.perf_counter()\n",
    "time_scion = end - start\n",
    "\n",
    "print( '-------------------------' )\n",
    "print( 'scion elapsed time = {:.3} s'.format( time_scion ) )\n",
    "print( '-------------------------' )\n"
   ]
  },
  {
   "cell_type": "code",
   "execution_count": 7,
   "id": "540d853c",
   "metadata": {},
   "outputs": [
    {
     "name": "stdout",
     "output_type": "stream",
     "text": [
      "scion coefficients : [-8.333333333333334, 14.6, -4.666666666666667, 0.4]\n",
      "scion coefficients : [-10.333333333333334, 14.6, -4.666666666666667, 0.4]\n",
      "-------------------------\n",
      "scion elapsed time = 2.8 s\n",
      "-------------------------\n"
     ]
    }
   ],
   "source": [
    "repeat = 1000000\n",
    "\n",
    "coeffients = [ -31./3., 73./5., -14./3., 2./5. ]\n",
    "\n",
    "scion_test = scion.math.LegendreSeries( coeffients )\n",
    "\n",
    "scion_test += 2\n",
    "print( 'scion coefficients :', scion_test.coefficients )\n",
    "scion_test -= 2\n",
    "print( 'scion coefficients :', scion_test.coefficients )\n",
    "\n",
    "start = time.perf_counter()\n",
    "for i in range( repeat ) : \n",
    "    scion_test += 2\n",
    "    scion_test -= 2\n",
    "end = time.perf_counter()\n",
    "time_scion = end - start\n",
    "\n",
    "print( '-------------------------' )\n",
    "print( 'scion elapsed time = {:.3} s'.format( time_scion ) )\n",
    "print( '-------------------------' )\n"
   ]
  },
  {
   "cell_type": "code",
   "execution_count": 8,
   "id": "a70a4252",
   "metadata": {},
   "outputs": [
    {
     "name": "stdout",
     "output_type": "stream",
     "text": [
      "scion coefficients : [-20.666666666666668, 29.2, -9.333333333333334, 0.8]\n",
      "scion coefficients : [-10.333333333333334, 14.6, -4.666666666666667, 0.4]\n",
      "-------------------------\n",
      "scion elapsed time = 0.905 s\n",
      "-------------------------\n"
     ]
    }
   ],
   "source": [
    "repeat = 1000000\n",
    "\n",
    "coeffients = [ -31./3., 73./5., -14./3., 2./5. ]\n",
    "\n",
    "scion_test = scion.math.LegendreSeries( coeffients )\n",
    "\n",
    "scion_test *= 2\n",
    "print( 'scion coefficients :', scion_test.coefficients )\n",
    "scion_test /= 2\n",
    "print( 'scion coefficients :', scion_test.coefficients )\n",
    "\n",
    "start = time.perf_counter()\n",
    "for i in range( repeat ) : \n",
    "    scion_test *= 2\n",
    "    scion_test /= 2\n",
    "end = time.perf_counter()\n",
    "time_scion = end - start\n",
    "\n",
    "print( '-------------------------' )\n",
    "print( 'scion elapsed time = {:.3} s'.format( time_scion ) )\n",
    "print( '-------------------------' )\n"
   ]
  },
  {
   "cell_type": "code",
   "execution_count": 9,
   "id": "7930a010",
   "metadata": {},
   "outputs": [
    {
     "name": "stdout",
     "output_type": "stream",
     "text": [
      "scion coefficients : [-6.333333333333334, 17.6, -2.666666666666667, 1.4, 6.0]\n",
      "scion coefficients : [-10.333333333333334, 14.600000000000001, -4.666666666666667, 0.3999999999999999]\n",
      "-------------------------\n",
      "scion elapsed time = 1.78 s\n",
      "-------------------------\n"
     ]
    }
   ],
   "source": [
    "repeat = 1000000\n",
    "\n",
    "coeffients = [ -31./3., 73./5., -14./3., 2./5. ]\n",
    "\n",
    "scion_test = scion.math.LegendreSeries( coeffients )\n",
    "series = scion.math.LegendreSeries( [ 4., 3., 2., 1., 6. ] )\n",
    "\n",
    "scion_test += series\n",
    "print( 'scion coefficients :', scion_test.coefficients )\n",
    "scion_test -= series\n",
    "print( 'scion coefficients :', scion_test.coefficients )\n",
    "\n",
    "start = time.perf_counter()\n",
    "for i in range( repeat ) : \n",
    "    scion_test += series\n",
    "    scion_test -= series\n",
    "end = time.perf_counter()\n",
    "time_scion = end - start\n",
    "\n",
    "print( '-------------------------' )\n",
    "print( 'scion elapsed time = {:.3} s'.format( time_scion ) )\n",
    "print( '-------------------------' )\n"
   ]
  },
  {
   "cell_type": "code",
   "execution_count": 10,
   "id": "796ce584",
   "metadata": {},
   "outputs": [
    {
     "name": "stdout",
     "output_type": "stream",
     "text": [
      "scion coefficients : [-8.333333333333334, 14.6, -4.666666666666667, 0.4]\n",
      "scion coefficients : [-12.333333333333334, 14.6, -4.666666666666667, 0.4]\n",
      "-------------------------\n",
      "scion elapsed time = 3.52 s\n",
      "-------------------------\n"
     ]
    }
   ],
   "source": [
    "repeat = 1000000\n",
    "\n",
    "coeffients = [ -31./3., 73./5., -14./3., 2./5. ]\n",
    "\n",
    "series = scion.math.LegendreSeries( coeffients )\n",
    "\n",
    "scion_test = series + 2\n",
    "print( 'scion coefficients :', scion_test.coefficients )\n",
    "scion_test = series - 2\n",
    "print( 'scion coefficients :', scion_test.coefficients )\n",
    "\n",
    "start = time.perf_counter()\n",
    "for i in range( repeat ) : \n",
    "    scion_test = series + 2\n",
    "    scion_test = series - 2\n",
    "end = time.perf_counter()\n",
    "time_scion = end - start\n",
    "\n",
    "print( '-------------------------' )\n",
    "print( 'scion elapsed time = {:.3} s'.format( time_scion ) )\n",
    "print( '-------------------------' )\n"
   ]
  },
  {
   "cell_type": "code",
   "execution_count": 11,
   "id": "c402aadb",
   "metadata": {},
   "outputs": [
    {
     "name": "stdout",
     "output_type": "stream",
     "text": [
      "scion coefficients : [-20.666666666666668, 29.2, -9.333333333333334, 0.8]\n",
      "scion coefficients : [-5.166666666666667, 7.3, -2.3333333333333335, 0.2]\n",
      "-------------------------\n",
      "scion elapsed time = 1.57 s\n",
      "-------------------------\n"
     ]
    }
   ],
   "source": [
    "repeat = 1000000\n",
    "\n",
    "coeffients = [ -31./3., 73./5., -14./3., 2./5. ]\n",
    "\n",
    "series = scion.math.LegendreSeries( coeffients )\n",
    "\n",
    "scion_test = series * 2\n",
    "print( 'scion coefficients :', scion_test.coefficients )\n",
    "scion_test = series / 2\n",
    "print( 'scion coefficients :', scion_test.coefficients )\n",
    "\n",
    "start = time.perf_counter()\n",
    "for i in range( repeat ) : \n",
    "    scion_test = series * 2\n",
    "    scion_test = series / 2\n",
    "end = time.perf_counter()\n",
    "time_scion = end - start\n",
    "\n",
    "print( '-------------------------' )\n",
    "print( 'scion elapsed time = {:.3} s'.format( time_scion ) )\n",
    "print( '-------------------------' )\n"
   ]
  },
  {
   "cell_type": "code",
   "execution_count": 12,
   "id": "6cfdf316",
   "metadata": {},
   "outputs": [
    {
     "name": "stdout",
     "output_type": "stream",
     "text": [
      "scion coefficients : [-6.333333333333334, 17.6, -2.666666666666667, 1.4, 6.0]\n",
      "scion coefficients : [-14.333333333333334, 11.6, -6.666666666666667, -0.6, -6.0]\n",
      "-------------------------\n",
      "scion elapsed time = 2.56 s\n",
      "-------------------------\n"
     ]
    }
   ],
   "source": [
    "repeat = 1000000\n",
    "\n",
    "coeffients = [ -31./3., 73./5., -14./3., 2./5. ]\n",
    "\n",
    "series1 = scion.math.LegendreSeries( coeffients )\n",
    "series2 = scion.math.LegendreSeries( [ 4., 3., 2., 1., 6. ] )\n",
    "\n",
    "scion_test = series1 + series2\n",
    "print( 'scion coefficients :', scion_test.coefficients )\n",
    "scion_test = series1 - series2\n",
    "print( 'scion coefficients :', scion_test.coefficients )\n",
    "\n",
    "start = time.perf_counter()\n",
    "for i in range( repeat ) : \n",
    "    scion_test = series1 + series2\n",
    "    scion_test = series1 - series2\n",
    "end = time.perf_counter()\n",
    "time_scion = end - start\n",
    "\n",
    "print( '-------------------------' )\n",
    "print( 'scion elapsed time = {:.3} s'.format( time_scion ) )\n",
    "print( '-------------------------' )\n"
   ]
  },
  {
   "cell_type": "code",
   "execution_count": null,
   "id": "b6bdc06e",
   "metadata": {},
   "outputs": [],
   "source": []
  }
 ],
 "metadata": {
  "kernelspec": {
   "display_name": "Python 3",
   "language": "python",
   "name": "python3"
  },
  "language_info": {
   "codemirror_mode": {
    "name": "ipython",
    "version": 3
   },
   "file_extension": ".py",
   "mimetype": "text/x-python",
   "name": "python",
   "nbconvert_exporter": "python",
   "pygments_lexer": "ipython3",
   "version": "3.8.8"
  }
 },
 "nbformat": 4,
 "nbformat_minor": 5
}
