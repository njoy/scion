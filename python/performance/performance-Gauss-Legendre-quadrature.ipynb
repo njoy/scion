{
 "cells": [
  {
   "cell_type": "code",
   "execution_count": 1,
   "id": "c64ad866",
   "metadata": {},
   "outputs": [],
   "source": [
    "import scion\n",
    "import time\n",
    "import numpy"
   ]
  },
  {
   "cell_type": "code",
   "execution_count": 2,
   "id": "ea99a011",
   "metadata": {},
   "outputs": [],
   "source": [
    "xi, wi = numpy.polynomial.legendre.leggauss( 7 )\n",
    "\n",
    "def gauss( f ):\n",
    "    \n",
    "    result = numpy.sum( wi * f(xi) )\n",
    "    return result\n",
    "\n",
    "def gauss_ab( f, a, b ):\n",
    "    \n",
    "    result = 0.5 * ( b - a ) * numpy.sum( wi * f( ( xi + 1 ) * ( b - a ) / 2 + a ) )\n",
    "    return result"
   ]
  },
  {
   "cell_type": "code",
   "execution_count": 3,
   "id": "bc566702",
   "metadata": {},
   "outputs": [],
   "source": [
    "def function1( x ) :\n",
    "    \n",
    "    return x + 1"
   ]
  },
  {
   "cell_type": "code",
   "execution_count": 4,
   "id": "8984e222",
   "metadata": {},
   "outputs": [
    {
     "name": "stdout",
     "output_type": "stream",
     "text": [
      "scion trapezoid : 2.0\n",
      "scion gauss-legendre 2 : 2.0\n",
      "scion gauss-legendre 7 : 2.0\n",
      "numpy : 2.0\n",
      "-------------------------\n",
      "scion trapezoid elapsed time = 0.457 s\n",
      "scion gauss-legendre 2 elapsed time = 0.825 s\n",
      "scion gauss-legendre 7 elapsed time = 1.27 s\n",
      "numpy elapsed time = 4.36 s\n",
      "-------------------------\n"
     ]
    }
   ],
   "source": [
    "repeat = 1000000\n",
    "\n",
    "scion_trapezoid_test = scion.integration.linlin\n",
    "scion_gauslegendre2_test = scion.integration.GaussLegendre2()\n",
    "scion_gauslegendre7_test = scion.integration.GaussLegendre7()\n",
    "\n",
    "print( 'scion trapezoid :', scion_trapezoid_test( -1, +1, function1( -1 ), function1( +1 ) ) )\n",
    "print( 'scion gauss-legendre 2 :', scion_gauslegendre2_test( function1 ) )\n",
    "print( 'scion gauss-legendre 7 :', scion_gauslegendre7_test( function1 ) )\n",
    "print( 'numpy :', gauss( function1 ) )\n",
    "\n",
    "start = time.perf_counter()\n",
    "for i in range( repeat ) : result = scion_trapezoid_test( -1, +1, function1( -1 ), function1( +1 ) )\n",
    "end = time.perf_counter()\n",
    "time_trapezoid = end - start\n",
    "\n",
    "start = time.perf_counter()\n",
    "for i in range( repeat ) : result = scion_gauslegendre2_test( function1 )\n",
    "end = time.perf_counter()\n",
    "time_scion_2 = end - start\n",
    "\n",
    "start = time.perf_counter()\n",
    "for i in range( repeat ) : result = scion_gauslegendre7_test( function1 )\n",
    "end = time.perf_counter()\n",
    "time_scion_7 = end - start\n",
    "\n",
    "start = time.perf_counter()\n",
    "for i in range( repeat ) : result = gauss( function1 )\n",
    "end = time.perf_counter()\n",
    "time_numpy = end - start\n",
    "\n",
    "print( '-------------------------' )\n",
    "print( 'scion trapezoid elapsed time = {:.3} s'.format( time_trapezoid ) )\n",
    "print( 'scion gauss-legendre 2 elapsed time = {:.3} s'.format( time_scion_2 ) )\n",
    "print( 'scion gauss-legendre 7 elapsed time = {:.3} s'.format( time_scion_7 ) )\n",
    "print( 'numpy elapsed time = {:.3} s'.format( time_numpy ) )\n",
    "print( '-------------------------' )"
   ]
  },
  {
   "cell_type": "code",
   "execution_count": 5,
   "id": "72ef0504",
   "metadata": {},
   "outputs": [
    {
     "name": "stdout",
     "output_type": "stream",
     "text": [
      "scion trapezoid : 10.0\n",
      "scion gauss-legendre 2 : 10.0\n",
      "scion gauss-legendre 7 : 10.0\n",
      "numpy : 10.0\n",
      "-------------------------\n",
      "scion trapezoid elapsed time = 0.447 s\n",
      "scion gauss-legendre 2 elapsed time = 0.871 s\n",
      "scion gauss-legendre 7 elapsed time = 1.34 s\n",
      "numpy elapsed time = 8.2 s\n",
      "-------------------------\n"
     ]
    }
   ],
   "source": [
    "repeat = 1000000\n",
    "\n",
    "scion_trapezoid_test = scion.integration.linlin\n",
    "scion_gauslegendre2_test = scion.integration.GaussLegendre2()\n",
    "scion_gauslegendre7_test = scion.integration.GaussLegendre7()\n",
    "\n",
    "print( 'scion trapezoid :', scion_trapezoid_test( -1, +1, function1( 3. ), function1( 5. ) ) )\n",
    "print( 'scion gauss-legendre 2 :', scion_gauslegendre2_test( function1, 3., 5. ) )\n",
    "print( 'scion gauss-legendre 7 :', scion_gauslegendre7_test( function1, 3., 5. ) )\n",
    "print( 'numpy :', gauss_ab( function1, 3., 5. ) )\n",
    "\n",
    "start = time.perf_counter()\n",
    "for i in range( repeat ) : result = scion_trapezoid_test( -1, +1, function1( 3. ), function1( 5. ) )\n",
    "end = time.perf_counter()\n",
    "time_trapezoid = end - start\n",
    "\n",
    "start = time.perf_counter()\n",
    "for i in range( repeat ) : result = scion_gauslegendre2_test( function1, 3., 5. )\n",
    "end = time.perf_counter()\n",
    "time_scion_2 = end - start\n",
    "\n",
    "start = time.perf_counter()\n",
    "for i in range( repeat ) : result = scion_gauslegendre7_test( function1, 3., 5. )\n",
    "end = time.perf_counter()\n",
    "time_scion_7 = end - start\n",
    "\n",
    "start = time.perf_counter()\n",
    "for i in range( repeat ) : result = gauss_ab( function1, 3., 5. )\n",
    "end = time.perf_counter()\n",
    "time_numpy = end - start\n",
    "\n",
    "print( '-------------------------' )\n",
    "print( 'scion trapezoid elapsed time = {:.3} s'.format( time_trapezoid ) )\n",
    "print( 'scion gauss-legendre 2 elapsed time = {:.3} s'.format( time_scion_2 ) )\n",
    "print( 'scion gauss-legendre 7 elapsed time = {:.3} s'.format( time_scion_7 ) )\n",
    "print( 'numpy elapsed time = {:.3} s'.format( time_numpy ) )\n",
    "print( '-------------------------' )"
   ]
  }
 ],
 "metadata": {
  "kernelspec": {
   "display_name": "Python 3",
   "language": "python",
   "name": "python3"
  },
  "language_info": {
   "codemirror_mode": {
    "name": "ipython",
    "version": 3
   },
   "file_extension": ".py",
   "mimetype": "text/x-python",
   "name": "python",
   "nbconvert_exporter": "python",
   "pygments_lexer": "ipython3",
   "version": "3.8.8"
  }
 },
 "nbformat": 4,
 "nbformat_minor": 5
}
