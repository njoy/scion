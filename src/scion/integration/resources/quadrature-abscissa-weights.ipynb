{
 "cells": [
  {
   "cell_type": "code",
   "execution_count": 1,
   "id": "9cf98e60",
   "metadata": {},
   "outputs": [],
   "source": [
    "import numpy\n",
    "import math"
   ]
  },
  {
   "cell_type": "code",
   "execution_count": 2,
   "id": "f135599e",
   "metadata": {},
   "outputs": [
    {
     "name": "stdout",
     "output_type": "stream",
     "text": [
      "-5.77350269189625731e-01, 1.00000000000000000e+00\n",
      " 5.77350269189625731e-01, 1.00000000000000000e+00\n"
     ]
    }
   ],
   "source": [
    "# gauss-legendre\n",
    "# numpy provides abscissa and weights\n",
    "\n",
    "n = 2\n",
    "data = numpy.polynomial.legendre.leggauss(n)\n",
    "for index in range( 0, n ) :\n",
    "    \n",
    "    print( \"{: .17e}, {:.17e}\".format( data[0][index], data[1][index] ) )"
   ]
  },
  {
   "cell_type": "code",
   "execution_count": 3,
   "id": "3adbf2e8",
   "metadata": {},
   "outputs": [
    {
     "name": "stdout",
     "output_type": "stream",
     "text": [
      "------------------\n",
      "-1.000000000000000e+00,  1.000000000000000e+00\n",
      " 1.000000000000000e+00,  1.000000000000000e+00\n",
      "------------------\n",
      " 1.00000000000000000000e+00,  2.00000000000000000000e+00\n"
     ]
    }
   ],
   "source": [
    "# gauss-lobatto\n",
    "# abscissa are the roots of the first derivative of P_N-1\n",
    "# weights are 2/n/(n+1)/P_N(xi)**2 for i != 1,N and 2/n/(n+1) for i=1,N\n",
    "\n",
    "import scion\n",
    "\n",
    "n = 2\n",
    "\n",
    "# calculate the derivative of P_N-1\n",
    "coefficients = [ 0. ] * n\n",
    "coefficients[-1] = 1.\n",
    "f = scion.math.LegendreSeries( coefficients )\n",
    "df = f.derivative()\n",
    "\n",
    "# calculate roots\n",
    "x = df.roots()\n",
    "\n",
    "# calculate weights\n",
    "w = [ 2 / n / ( n - 1 ) / f( value )**2 for value in x ]\n",
    "\n",
    "# insert -/+1\n",
    "x = [ -1 ] + x + [ +1 ]\n",
    "w = [ 2 / n / ( n - 1 ) ] + w + [ 2 / n / ( n - 1 ) ]\n",
    "\n",
    "# normalise\n",
    "norm = sum( w ) / 2\n",
    "w = [ value / norm for value in w ]\n",
    "\n",
    "print( '------------------' )\n",
    "for index in range( 0, len(x) ) :\n",
    "    \n",
    "    print( \"{: .15e}, {: .15e}\".format( x[index], w[index] ) )\n",
    "\n",
    "print( '------------------' )\n",
    "print( \"{: .20e}, {: .20e}\".format( norm, sum( w ) ) )"
   ]
  },
  {
   "cell_type": "code",
   "execution_count": 4,
   "id": "d816c64c",
   "metadata": {},
   "outputs": [
    {
     "name": "stdout",
     "output_type": "stream",
     "text": [
      "-7.07106781186547e-01, 1.57079632679490e+00\n",
      " 7.07106781186548e-01, 1.57079632679490e+00\n"
     ]
    }
   ],
   "source": [
    "# gauss-chebyshev\n",
    "# abscissa are cos((2i-1)pi/2n)\n",
    "# weights are pi/n\n",
    "\n",
    "n = 2\n",
    "\n",
    "pi = math.acos(-1)\n",
    "\n",
    "x = [ math.cos( (2*i-1)/(2*n)*pi ) for i in range(1, n+1) ]\n",
    "w = pi/n\n",
    "x.reverse()\n",
    "\n",
    "for index in range( 0, n ) :\n",
    "    \n",
    "    print( \"{: .14e}, {:.14e}\".format( x[index], w ) )"
   ]
  },
  {
   "cell_type": "code",
   "execution_count": null,
   "id": "fa9f83f1",
   "metadata": {},
   "outputs": [],
   "source": []
  }
 ],
 "metadata": {
  "kernelspec": {
   "display_name": "Python 3",
   "language": "python",
   "name": "python3"
  },
  "language_info": {
   "codemirror_mode": {
    "name": "ipython",
    "version": 3
   },
   "file_extension": ".py",
   "mimetype": "text/x-python",
   "name": "python",
   "nbconvert_exporter": "python",
   "pygments_lexer": "ipython3",
   "version": "3.8.8"
  }
 },
 "nbformat": 4,
 "nbformat_minor": 5
}
